{
 "cells": [
  {
   "cell_type": "markdown",
   "id": "b679aa8f",
   "metadata": {},
   "source": [
    "## 1. 위키피디아로부터 데이터 다운로드 및 통합"
   ]
  },
  {
   "cell_type": "code",
   "execution_count": null,
   "id": "b694d784",
   "metadata": {},
   "outputs": [],
   "source": [
    "# !wget https://dumps.wikimedia.org/kowiki/latest/kowiki-latest-pages-articles.xml.bz2"
   ]
  },
  {
   "cell_type": "markdown",
   "id": "0a070788",
   "metadata": {},
   "source": [
    "![Untitled](https://s3-us-west-2.amazonaws.com/secure.notion-static.com/eda7b47a-8c92-45b5-bf3c-5bb63176b73f/Untitled.png)"
   ]
  },
  {
   "cell_type": "code",
   "execution_count": 2,
   "id": "797bb7d6",
   "metadata": {
    "scrolled": true
   },
   "outputs": [
    {
     "name": "stdout",
     "output_type": "stream",
     "text": [
      "INFO: Preprocessing 'kowiki-latest-pages-articles.xml.bz2' to collect template definitions: this may take some time.\n",
      "INFO: Preprocessed 100000 pages\n",
      "INFO: Preprocessed 200000 pages\n",
      "INFO: Preprocessed 300000 pages\n",
      "INFO: Preprocessed 400000 pages\n",
      "INFO: Preprocessed 500000 pages\n",
      "INFO: Preprocessed 600000 pages\n",
      "INFO: Preprocessed 700000 pages\n",
      "INFO: Preprocessed 800000 pages\n",
      "INFO: Preprocessed 900000 pages\n",
      "INFO: Preprocessed 1000000 pages\n",
      "INFO: Preprocessed 1100000 pages\n",
      "INFO: Preprocessed 1200000 pages\n",
      "INFO: Preprocessed 1300000 pages\n",
      "INFO: Preprocessed 1400000 pages\n",
      "INFO: Preprocessed 1500000 pages\n",
      "INFO: Preprocessed 1600000 pages\n",
      "INFO: Preprocessed 1700000 pages\n",
      "INFO: Loaded 60289 templates in 193.4s\n",
      "INFO: Starting page extraction from kowiki-latest-pages-articles.xml.bz2.\n",
      "INFO: Using 7 extract processes.\n",
      "INFO: Extracted 100000 articles (1504.2 art/s)\n",
      "INFO: Extracted 200000 articles (1861.2 art/s)\n",
      "INFO: Extracted 300000 articles (1820.8 art/s)\n",
      "INFO: Extracted 400000 articles (1817.6 art/s)\n",
      "INFO: Extracted 500000 articles (1943.8 art/s)\n",
      "INFO: Extracted 600000 articles (1995.8 art/s)\n",
      "INFO: Extracted 700000 articles (2072.6 art/s)\n",
      "INFO: Extracted 800000 articles (2129.5 art/s)\n",
      "INFO: Extracted 900000 articles (2551.6 art/s)\n",
      "INFO: Extracted 1000000 articles (2327.2 art/s)\n",
      "INFO: Extracted 1100000 articles (2060.3 art/s)\n",
      "INFO: Extracted 1200000 articles (2186.6 art/s)\n",
      "INFO: Extracted 1300000 articles (2159.9 art/s)\n",
      "INFO: Finished 7-process extraction of 1315574 articles in 658.4s (1998.0 art/s)\n"
     ]
    }
   ],
   "source": [
    "!python -m wikiextractor.WikiExtractor kowiki-latest-pages-articles.xml.bz2"
   ]
  },
  {
   "cell_type": "code",
   "execution_count": 1,
   "id": "5bc94320",
   "metadata": {},
   "outputs": [
    {
     "name": "stdout",
     "output_type": "stream",
     "text": [
      "\u001b[1m\u001b[36mMecab-ko-for-Google-Colab\u001b[m\u001b[m/\r\n",
      "Word2vec 실습.ipynb\r\n",
      "appstore_굿노트1444383602.csv\r\n",
      "hs_err_pid19896.log\r\n",
      "kowiki-latest-pages-articles.xml.bz2\r\n",
      "output_file.txt\r\n",
      "ted_en-20160408.xml\r\n",
      "\u001b[1m\u001b[36mtext\u001b[m\u001b[m/\r\n",
      "위키피디아로 Word2Vec 학습.ipynb\r\n"
     ]
    }
   ],
   "source": [
    "%ls"
   ]
  },
  {
   "cell_type": "code",
   "execution_count": 2,
   "id": "901ae8d7",
   "metadata": {},
   "outputs": [],
   "source": [
    "import os\n",
    "import re"
   ]
  },
  {
   "cell_type": "code",
   "execution_count": 3,
   "id": "0075198b",
   "metadata": {},
   "outputs": [
    {
     "data": {
      "text/plain": [
       "['AC', 'AD', 'AJ', 'AE', 'AB', 'AG', 'AI', 'AH', 'AA', 'AF']"
      ]
     },
     "execution_count": 3,
     "metadata": {},
     "output_type": "execute_result"
    }
   ],
   "source": [
    "os.listdir('text')"
   ]
  },
  {
   "cell_type": "code",
   "execution_count": 4,
   "id": "f76ab939",
   "metadata": {},
   "outputs": [
    {
     "name": "stdout",
     "output_type": "stream",
     "text": [
      "wiki_00  wiki_13  wiki_26  wiki_39  wiki_52  wiki_65  wiki_78  wiki_91\r\n",
      "wiki_01  wiki_14  wiki_27  wiki_40  wiki_53  wiki_66  wiki_79  wiki_92\r\n",
      "wiki_02  wiki_15  wiki_28  wiki_41  wiki_54  wiki_67  wiki_80  wiki_93\r\n",
      "wiki_03  wiki_16  wiki_29  wiki_42  wiki_55  wiki_68  wiki_81  wiki_94\r\n",
      "wiki_04  wiki_17  wiki_30  wiki_43  wiki_56  wiki_69  wiki_82  wiki_95\r\n",
      "wiki_05  wiki_18  wiki_31  wiki_44  wiki_57  wiki_70  wiki_83  wiki_96\r\n",
      "wiki_06  wiki_19  wiki_32  wiki_45  wiki_58  wiki_71  wiki_84  wiki_97\r\n",
      "wiki_07  wiki_20  wiki_33  wiki_46  wiki_59  wiki_72  wiki_85  wiki_98\r\n",
      "wiki_08  wiki_21  wiki_34  wiki_47  wiki_60  wiki_73  wiki_86  wiki_99\r\n",
      "wiki_09  wiki_22  wiki_35  wiki_48  wiki_61  wiki_74  wiki_87\r\n",
      "wiki_10  wiki_23  wiki_36  wiki_49  wiki_62  wiki_75  wiki_88\r\n",
      "wiki_11  wiki_24  wiki_37  wiki_50  wiki_63  wiki_76  wiki_89\r\n",
      "wiki_12  wiki_25  wiki_38  wiki_51  wiki_64  wiki_77  wiki_90\r\n"
     ]
    }
   ],
   "source": [
    "%ls text/AA"
   ]
  },
  {
   "cell_type": "code",
   "execution_count": 5,
   "id": "d7e1f095",
   "metadata": {},
   "outputs": [],
   "source": [
    "#  AA ~ AF 디렉토리 안의 wiki 숫자 형태의 수많은 파일들을 하나로 통합하는 과정을 진행\n",
    "# . AA ~ AF 디렉토리 안의 모든 파일들의 경로를 파이썬의 리스트 형태로 저장\n",
    "def list_wiki(dirname):\n",
    "    filepaths = []\n",
    "    filenames = os.listdir(dirname)\n",
    "    for filename in filenames:\n",
    "        filepath = os.path.join(dirname, filename)\n",
    "\n",
    "        if os.path.isdir(filepath):\n",
    "            # 재귀 함수\n",
    "            filepaths.extend(list_wiki(filepath))\n",
    "        else:\n",
    "            find = re.findall(r\"wiki_[0-9][0-9]\", filepath)\n",
    "            if 0 < len(find):\n",
    "                filepaths.append(filepath)\n",
    "    return sorted(filepaths)"
   ]
  },
  {
   "cell_type": "code",
   "execution_count": 6,
   "id": "6ecf86b8",
   "metadata": {},
   "outputs": [],
   "source": [
    "filepaths = list_wiki('text')"
   ]
  },
  {
   "cell_type": "code",
   "execution_count": 7,
   "id": "76157e65",
   "metadata": {},
   "outputs": [
    {
     "data": {
      "text/plain": [
       "909"
      ]
     },
     "execution_count": 7,
     "metadata": {},
     "output_type": "execute_result"
    }
   ],
   "source": [
    "# 총 파일의 개수 \n",
    "len(filepaths)"
   ]
  },
  {
   "cell_type": "code",
   "execution_count": 8,
   "id": "efc3aaa2",
   "metadata": {},
   "outputs": [],
   "source": [
    "# output_file.txt라는 파일에 850개의 파일을 전부 하나로 합친다 \n",
    "with open(\"output_file.txt\", \"w\") as outfile:\n",
    "    for filename in filepaths:\n",
    "        with open(filename) as infile:\n",
    "            contents = infile.read()\n",
    "            outfile.write(contents)"
   ]
  },
  {
   "cell_type": "code",
   "execution_count": 9,
   "id": "c5030dc8",
   "metadata": {},
   "outputs": [
    {
     "name": "stdout",
     "output_type": "stream",
     "text": [
      "1번째 줄 :<doc id=\"5\" url=\"https://ko.wikipedia.org/wiki?curid=5\" title=\"지미 카터\">\n",
      "\n",
      "2번째 줄 :지미 카터\n",
      "\n",
      "3번째 줄 :제임스 얼 카터 주니어(, 1924년 10월 1일 ~ )는 민주당 출신 미국 39대 대통령 (1977년 ~ 1981년)이다.\n",
      "\n",
      "4번째 줄 :생애.\n",
      "\n",
      "5번째 줄 :어린 시절.\n",
      "\n",
      "6번째 줄 :지미 카터는 조지아주 섬터 카운티 플레인스 마을에서 태어났다.\n",
      "\n",
      "7번째 줄 :조지아 공과대학교를 졸업하였다. 그 후 해군에 들어가 전함·원자력·잠수함의 승무원으로 일하였다. 1953년 미국 해군 대위로 예편하였고 이후 땅콩·면화 등을 가꿔 많은 돈을 벌었다. 그의 별명이 \"땅콩 농부\" (Peanut Farmer)로 알려졌다.\n",
      "\n",
      "8번째 줄 :정계 입문.\n",
      "\n",
      "9번째 줄 :1962년 조지아주 상원 의원 선거에서 낙선하나 그 선거가 부정선거 였음을 입증하게 되어 당선되고, 1966년 조지아 주지사 선거에 낙선하지만, 1970년 조지아 주지사를 역임했다. 대통령이 되기 전 조지아주 상원의원을 두번 연임했으며, 1971년부터 1975년까지 조지아 지사로 근무했다. 조지아 주지사로 지내면서, 미국에 사는 흑인 등용법을 내세웠다.\n",
      "\n",
      "10번째 줄 :대통령 재임.\n",
      "\n"
     ]
    }
   ],
   "source": [
    "f = open('output_file.txt', encoding=\"utf8\")\n",
    "\n",
    "i = 0\n",
    "while True:\n",
    "    line = f.readline()\n",
    "    if line != '\\n':\n",
    "        i = i+1\n",
    "        print(\"%d번째 줄 :\"%i + line)\n",
    "    if i==10:\n",
    "        break \n",
    "f.close()"
   ]
  },
  {
   "cell_type": "markdown",
   "id": "0c87524a",
   "metadata": {},
   "source": [
    "## 2. 형태소 분석"
   ]
  },
  {
   "cell_type": "code",
   "execution_count": 9,
   "id": "39b32c26",
   "metadata": {},
   "outputs": [],
   "source": [
    "#mecab이 없어서 Okt 사용 \n",
    "from tqdm import tqdm\n",
    "from konlpy.tag import Okt"
   ]
  },
  {
   "cell_type": "code",
   "execution_count": 5,
   "id": "6ac213a3",
   "metadata": {},
   "outputs": [
    {
     "name": "stdout",
     "output_type": "stream",
     "text": [
      "10344874\n"
     ]
    }
   ],
   "source": [
    "# 총 몇줄이 있는지 확인 \n",
    "f = open('output_file.txt', encoding=\"utf8\")\n",
    "lines = f.read().splitlines()\n",
    "print(len(lines))"
   ]
  },
  {
   "cell_type": "code",
   "execution_count": 6,
   "id": "db1dd22b",
   "metadata": {},
   "outputs": [
    {
     "data": {
      "text/plain": [
       "['<doc id=\"5\" url=\"https://ko.wikipedia.org/wiki?curid=5\" title=\"지미 카터\">',\n",
       " '지미 카터',\n",
       " '',\n",
       " '제임스 얼 카터 주니어(, 1924년 10월 1일 ~ )는 민주당 출신 미국 39대 대통령 (1977년 ~ 1981년)이다.',\n",
       " '생애.',\n",
       " '어린 시절.',\n",
       " '지미 카터는 조지아주 섬터 카운티 플레인스 마을에서 태어났다.',\n",
       " '조지아 공과대학교를 졸업하였다. 그 후 해군에 들어가 전함·원자력·잠수함의 승무원으로 일하였다. 1953년 미국 해군 대위로 예편하였고 이후 땅콩·면화 등을 가꿔 많은 돈을 벌었다. 그의 별명이 \"땅콩 농부\" (Peanut Farmer)로 알려졌다.',\n",
       " '정계 입문.',\n",
       " '1962년 조지아주 상원 의원 선거에서 낙선하나 그 선거가 부정선거 였음을 입증하게 되어 당선되고, 1966년 조지아 주지사 선거에 낙선하지만, 1970년 조지아 주지사를 역임했다. 대통령이 되기 전 조지아주 상원의원을 두번 연임했으며, 1971년부터 1975년까지 조지아 지사로 근무했다. 조지아 주지사로 지내면서, 미국에 사는 흑인 등용법을 내세웠다.']"
      ]
     },
     "execution_count": 6,
     "metadata": {},
     "output_type": "execute_result"
    }
   ],
   "source": [
    "lines[:10]"
   ]
  },
  {
   "cell_type": "code",
   "execution_count": 7,
   "id": "f5c0209d",
   "metadata": {},
   "outputs": [],
   "source": [
    "import re\n",
    "def strip_e(st):\n",
    "    RE_EMOJI = re.compile('[\\U00010000-\\U0010ffff]', flags=re.UNICODE)\n",
    "    return RE_EMOJI.sub(r'', st)\n",
    "\n",
    "\n",
    "a = []\n",
    "for line in lines:\n",
    "    a.append(strip_e(line))"
   ]
  },
  {
   "cell_type": "code",
   "execution_count": 12,
   "id": "266af522",
   "metadata": {},
   "outputs": [
    {
     "name": "stderr",
     "output_type": "stream",
     "text": [
      "100%|██████████████████████████████████| 100000/100000 [15:51<00:00, 105.13it/s]\n"
     ]
    }
   ],
   "source": [
    "result = []\n",
    "\n",
    "okt = Okt()\n",
    "for line in tqdm(a[:100000]):\n",
    "  # 빈 문자열이 아닌 경우에만 수행\n",
    "  if line:\n",
    "    result.append(okt.morphs(line))\n",
    "        \n"
   ]
  },
  {
   "cell_type": "markdown",
   "id": "80aaf330",
   "metadata": {},
   "source": [
    "## 3. Word2Vec 학습"
   ]
  },
  {
   "cell_type": "code",
   "execution_count": 19,
   "id": "46e9de61",
   "metadata": {},
   "outputs": [],
   "source": [
    "from gensim.models import Word2Vec\n",
    "model = Word2Vec(result,vector_size=100, window=5, min_count=5, workers=4, sg=0)"
   ]
  },
  {
   "cell_type": "code",
   "execution_count": 20,
   "id": "08fc8a81",
   "metadata": {},
   "outputs": [
    {
     "name": "stdout",
     "output_type": "stream",
     "text": [
      "[('한국', 0.7245165705680847), ('중화민국', 0.7233288884162903), ('남한', 0.6859211921691895), ('조선민주주의인민공화국', 0.6806159615516663), ('중화인민공화국', 0.6706444025039673), ('유엔', 0.6661297678947449), ('미국', 0.6628912687301636), ('동독', 0.6458582878112793), ('UN', 0.6433933973312378), ('아프가니스탄', 0.6344819664955139)]\n"
     ]
    }
   ],
   "source": [
    "model_result1 = model.wv.most_similar(\"대한민국\")\n",
    "print(model_result1)"
   ]
  },
  {
   "cell_type": "code",
   "execution_count": 21,
   "id": "b870cdaa",
   "metadata": {},
   "outputs": [
    {
     "name": "stdout",
     "output_type": "stream",
     "text": [
      "[('부품', 0.856286346912384), ('멀티미디어', 0.8440940976142883), ('목재', 0.842739999294281), ('섬유', 0.836188793182373), ('비즈니스', 0.8355954885482788), ('바이오', 0.8353908658027649), ('프린터', 0.829015851020813), ('첨단', 0.8283011317253113), ('컴퓨팅', 0.8273429870605469), ('천연가스', 0.8268576860427856)]\n"
     ]
    }
   ],
   "source": [
    "model_result2 = model.wv.most_similar(\"반도체\")\n",
    "print(model_result2)"
   ]
  },
  {
   "cell_type": "code",
   "execution_count": null,
   "id": "17796fb1",
   "metadata": {},
   "outputs": [],
   "source": []
  }
 ],
 "metadata": {
  "kernelspec": {
   "display_name": "Python 3 (ipykernel)",
   "language": "python",
   "name": "python3"
  },
  "language_info": {
   "codemirror_mode": {
    "name": "ipython",
    "version": 3
   },
   "file_extension": ".py",
   "mimetype": "text/x-python",
   "name": "python",
   "nbconvert_exporter": "python",
   "pygments_lexer": "ipython3",
   "version": "3.8.12"
  }
 },
 "nbformat": 4,
 "nbformat_minor": 5
}
